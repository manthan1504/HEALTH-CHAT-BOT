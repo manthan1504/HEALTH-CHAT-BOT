{
  "nbformat": 4,
  "nbformat_minor": 0,
  "metadata": {
    "colab": {
      "provenance": [],
      "authorship_tag": "ABX9TyNKPygoX2bOEaLdJtKztO5w",
      "include_colab_link": true
    },
    "kernelspec": {
      "name": "python3",
      "display_name": "Python 3"
    },
    "language_info": {
      "name": "python"
    }
  },
  "cells": [
    {
      "cell_type": "markdown",
      "metadata": {
        "id": "view-in-github",
        "colab_type": "text"
      },
      "source": [
        "<a href=\"https://colab.research.google.com/github/manthan1504/HEALTH-CHAT-BOT/blob/main/untitled.ipynb\" target=\"_parent\"><img src=\"https://colab.research.google.com/assets/colab-badge.svg\" alt=\"Open In Colab\"/></a>"
      ]
    },
    {
      "cell_type": "code",
      "source": [
        "print(\"Personal Budget Tracker\")\n",
        "\n",
        "income = float(input(\"Enter your total monthly income: ₹\"))\n",
        "\n",
        "expenses = {}\n",
        "\n",
        "while True:\n",
        "    category = input(\"Enter expense category (type 'done' to finish): \")\n",
        "    if category.lower() == 'done':\n",
        "        break\n",
        "    amount = float(input(f\"Enter amount for {category}: ₹\"))\n",
        "    expenses[category] = expenses.get(category, 0) + amount\n",
        "\n",
        "total_expenses = sum(expenses.values())\n",
        "balance = income - total_expenses\n",
        "\n",
        "print(\"\\nSummary:\")\n",
        "print(f\"Total income: ₹{income}\")\n",
        "print(f\"Total spent: ₹{total_expenses}\")\n",
        "print(f\"Balance after expenses: ₹{balance}\")\n",
        "\n",
        "print(\"\\nExpense breakdown:\")\n",
        "for category, amount in expenses.items():\n",
        "    percent = amount / total_expenses * 100\n",
        "    print(f\" - {category}: ₹{amount} ({percent:.1f}%)\")\n",
        "\n",
        "max_category = max(expenses, key=expenses.get)\n",
        "print(f\"\\nBiggest Expense: {max_category} - ₹{expenses[max_category]}\")"
      ],
      "metadata": {
        "colab": {
          "base_uri": "https://localhost:8080/"
        },
        "id": "ivnYhIICDcU1",
        "outputId": "9f291a7a-f4b4-42c3-f6f2-754be8188928"
      },
      "execution_count": null,
      "outputs": [
        {
          "metadata": {
            "tags": null
          },
          "name": "stdout",
          "output_type": "stream",
          "text": [
            "Personal Budget Tracker\n"
          ]
        }
      ]
    },
    {
      "cell_type": "code",
      "source": [],
      "metadata": {
        "id": "xHnNYJK4DhvL"
      },
      "execution_count": null,
      "outputs": []
    }
  ]
}